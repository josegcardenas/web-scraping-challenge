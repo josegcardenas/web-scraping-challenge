{
 "cells": [
  {
   "cell_type": "code",
   "execution_count": 1,
   "id": "93980d66-9bed-415e-bae5-c0cddb83b6a3",
   "metadata": {},
   "outputs": [],
   "source": [
    "!conda install splinter\n",
    "!conda install webdriver_manager"
   ]
  },
  {
   "cell_type": "markdown",
   "id": "29c0bde8-5b36-4bea-85aa-fb8aa3d31541",
   "metadata": {},
   "source": [
    "import logging\n",
    "import os\n",
    "\n",
    "from webdriver_manager import utils\n",
    "from webdriver_manager.driver import ChromeDriver\n",
    "from webdriver_manager.logger import log\n",
    "from webdriver_manager.manager import DriverManager\n",
    "from webdriver_manager.utils import ChromeType\n",
    "\n",
    "\n",
    "class ChromeDriverManager(DriverManager):\n",
    "    def __init__(self, version=\"latest\",\n",
    "                 os_type=utils.os_type(),\n",
    "                 path=None,\n",
    "                 name=\"chromedriver\",\n",
    "                 url=\"https://chromedriver.storage.googleapis.com\",\n",
    "                 latest_release_url=\"https://chromedriver.storage.googleapis.com/LATEST_RELEASE\",\n",
    "                 chrome_type=ChromeType.GOOGLE,\n",
    "                 log_level=logging.INFO,\n",
    "                 print_first_line=True,\n",
    "                 cache_valid_range=1):\n",
    "        super().__init__(path, log_level=log_level, print_first_line=print_first_line,\n",
    "                         cache_valid_range=cache_valid_range)\n",
    "\n",
    "        self.driver = ChromeDriver(name=name,\n",
    "                                   version=version,\n",
    "                                   os_type=os_type,\n",
    "                                   url=url,\n",
    "                                   latest_release_url=latest_release_url,\n",
    "                                   chrome_type=chrome_type)\n",
    "\n",
    "    def install(self):\n",
    "        log(f\"Current {self.driver.chrome_type} version is {self.driver.browser_version}\", first_line=True)\n",
    "        driver_path = self._get_driver_path(self.driver)\n",
    "\n",
    "        os.chmod(driver_path, 0o755)\n",
    "        return driver_path"
   ]
  },
  {
   "cell_type": "code",
   "execution_count": 2,
   "id": "3e205770-d47e-4b06-9e5f-4447ad242dda",
   "metadata": {},
   "outputs": [],
   "source": [
    "# Import\n",
    "import os\n",
    "from splinter import Browser\n",
    "from bs4 import BeautifulSoup as soup\n",
    "import pandas as pd\n",
    "from webdriver_manager.chrome import ChromeDriverManager\n",
    "from selenium import webdriver\n",
    "from webdriver_manager.utils import ChromeType"
   ]
  },
  {
   "cell_type": "code",
   "execution_count": 5,
   "id": "d2baa3b3-b564-4b80-aa25-59514a8e1cba",
   "metadata": {},
   "outputs": [
    {
     "name": "stderr",
     "output_type": "stream",
     "text": [
      "\n",
      "\n",
      "====== WebDriver manager ======\n"
     ]
    },
    {
     "ename": "ValueError",
     "evalue": "Could not get version for Chrome with this command: reg query \"HKEY_CURRENT_USER\\Software\\Google\\Chrome\\BLBeacon\" /v version",
     "output_type": "error",
     "traceback": [
      "\u001b[1;31m---------------------------------------------------------------------------\u001b[0m",
      "\u001b[1;31mValueError\u001b[0m                                Traceback (most recent call last)",
      "\u001b[1;32m<ipython-input-5-22a981f79d58>\u001b[0m in \u001b[0;36m<module>\u001b[1;34m\u001b[0m\n\u001b[1;32m----> 1\u001b[1;33m \u001b[0mexecutable_path\u001b[0m \u001b[1;33m=\u001b[0m \u001b[1;33m{\u001b[0m\u001b[1;34m'executable_path'\u001b[0m \u001b[1;33m:\u001b[0m \u001b[0mChromeDriverManager\u001b[0m\u001b[1;33m(\u001b[0m\u001b[1;33m)\u001b[0m\u001b[1;33m.\u001b[0m\u001b[0minstall\u001b[0m\u001b[1;33m(\u001b[0m\u001b[1;33m)\u001b[0m\u001b[1;33m}\u001b[0m\u001b[1;33m\u001b[0m\u001b[1;33m\u001b[0m\u001b[0m\n\u001b[0m\u001b[0;32m      2\u001b[0m \u001b[1;31m#\"C:\\Users\\Jose G Cardenas\\Downloads\\chromedriver_win32\"\u001b[0m\u001b[1;33m\u001b[0m\u001b[1;33m\u001b[0m\u001b[1;33m\u001b[0m\u001b[0m\n\u001b[0;32m      3\u001b[0m \u001b[0mbrowser\u001b[0m \u001b[1;33m=\u001b[0m \u001b[0mBrowser\u001b[0m\u001b[1;33m(\u001b[0m\u001b[1;34m'chrome'\u001b[0m\u001b[1;33m,\u001b[0m \u001b[1;33m**\u001b[0m\u001b[0mexecutable_path\u001b[0m\u001b[1;33m,\u001b[0m \u001b[0mheadless\u001b[0m\u001b[1;33m=\u001b[0m\u001b[1;32mFalse\u001b[0m\u001b[1;33m)\u001b[0m\u001b[1;33m\u001b[0m\u001b[1;33m\u001b[0m\u001b[0m\n",
      "\u001b[1;32m~\\anaconda3\\lib\\site-packages\\webdriver_manager\\chrome.py\u001b[0m in \u001b[0;36m__init__\u001b[1;34m(self, version, os_type, path, name, url, latest_release_url, chrome_type, log_level, print_first_line, cache_valid_range)\u001b[0m\n\u001b[0;32m     23\u001b[0m                          cache_valid_range=cache_valid_range)\n\u001b[0;32m     24\u001b[0m \u001b[1;33m\u001b[0m\u001b[0m\n\u001b[1;32m---> 25\u001b[1;33m         self.driver = ChromeDriver(name=name,\n\u001b[0m\u001b[0;32m     26\u001b[0m                                    \u001b[0mversion\u001b[0m\u001b[1;33m=\u001b[0m\u001b[0mversion\u001b[0m\u001b[1;33m,\u001b[0m\u001b[1;33m\u001b[0m\u001b[1;33m\u001b[0m\u001b[0m\n\u001b[0;32m     27\u001b[0m                                    \u001b[0mos_type\u001b[0m\u001b[1;33m=\u001b[0m\u001b[0mos_type\u001b[0m\u001b[1;33m,\u001b[0m\u001b[1;33m\u001b[0m\u001b[1;33m\u001b[0m\u001b[0m\n",
      "\u001b[1;32m~\\anaconda3\\lib\\site-packages\\webdriver_manager\\driver.py\u001b[0m in \u001b[0;36m__init__\u001b[1;34m(self, name, version, os_type, url, latest_release_url, chrome_type)\u001b[0m\n\u001b[0;32m     55\u001b[0m                                            latest_release_url)\n\u001b[0;32m     56\u001b[0m         \u001b[0mself\u001b[0m\u001b[1;33m.\u001b[0m\u001b[0mchrome_type\u001b[0m \u001b[1;33m=\u001b[0m \u001b[0mchrome_type\u001b[0m\u001b[1;33m\u001b[0m\u001b[1;33m\u001b[0m\u001b[0m\n\u001b[1;32m---> 57\u001b[1;33m         \u001b[0mself\u001b[0m\u001b[1;33m.\u001b[0m\u001b[0mbrowser_version\u001b[0m \u001b[1;33m=\u001b[0m \u001b[0mchrome_version\u001b[0m\u001b[1;33m(\u001b[0m\u001b[0mchrome_type\u001b[0m\u001b[1;33m)\u001b[0m\u001b[1;33m\u001b[0m\u001b[1;33m\u001b[0m\u001b[0m\n\u001b[0m\u001b[0;32m     58\u001b[0m \u001b[1;33m\u001b[0m\u001b[0m\n\u001b[0;32m     59\u001b[0m     \u001b[1;32mdef\u001b[0m \u001b[0mget_os_type\u001b[0m\u001b[1;33m(\u001b[0m\u001b[0mself\u001b[0m\u001b[1;33m)\u001b[0m\u001b[1;33m:\u001b[0m\u001b[1;33m\u001b[0m\u001b[1;33m\u001b[0m\u001b[0m\n",
      "\u001b[1;32m~\\anaconda3\\lib\\site-packages\\webdriver_manager\\utils.py\u001b[0m in \u001b[0;36mchrome_version\u001b[1;34m(browser_type)\u001b[0m\n\u001b[0;32m    153\u001b[0m \u001b[1;33m\u001b[0m\u001b[0m\n\u001b[0;32m    154\u001b[0m     \u001b[1;32mif\u001b[0m \u001b[1;32mnot\u001b[0m \u001b[0mversion\u001b[0m\u001b[1;33m:\u001b[0m\u001b[1;33m\u001b[0m\u001b[1;33m\u001b[0m\u001b[0m\n\u001b[1;32m--> 155\u001b[1;33m         \u001b[1;32mraise\u001b[0m \u001b[0mValueError\u001b[0m\u001b[1;33m(\u001b[0m\u001b[1;34mf'Could not get version for Chrome with this command: {cmd}'\u001b[0m\u001b[1;33m)\u001b[0m\u001b[1;33m\u001b[0m\u001b[1;33m\u001b[0m\u001b[0m\n\u001b[0m\u001b[0;32m    156\u001b[0m     \u001b[0mcurrent_version\u001b[0m \u001b[1;33m=\u001b[0m \u001b[0mversion\u001b[0m\u001b[1;33m.\u001b[0m\u001b[0mgroup\u001b[0m\u001b[1;33m(\u001b[0m\u001b[1;36m0\u001b[0m\u001b[1;33m)\u001b[0m\u001b[1;33m\u001b[0m\u001b[1;33m\u001b[0m\u001b[0m\n\u001b[0;32m    157\u001b[0m     \u001b[1;32mreturn\u001b[0m \u001b[0mcurrent_version\u001b[0m\u001b[1;33m\u001b[0m\u001b[1;33m\u001b[0m\u001b[0m\n",
      "\u001b[1;31mValueError\u001b[0m: Could not get version for Chrome with this command: reg query \"HKEY_CURRENT_USER\\Software\\Google\\Chrome\\BLBeacon\" /v version"
     ]
    }
   ],
   "source": [
    "executable_path = {'executable_path' : ChromeDriverManager().install()}\n",
    "#\"C:\\Users\\Jose G Cardenas\\Downloads\\chromedriver_win32\"\n",
    "browser = Browser('chrome', **executable_path, headless=False)"
   ]
  },
  {
   "cell_type": "code",
   "execution_count": 6,
   "id": "9b6f0456-6bb7-4ecb-96c3-274585ae35f4",
   "metadata": {},
   "outputs": [
    {
     "ename": "NameError",
     "evalue": "name 'browser' is not defined",
     "output_type": "error",
     "traceback": [
      "\u001b[1;31m---------------------------------------------------------------------------\u001b[0m",
      "\u001b[1;31mNameError\u001b[0m                                 Traceback (most recent call last)",
      "\u001b[1;32m<ipython-input-6-7abbb0cc6883>\u001b[0m in \u001b[0;36m<module>\u001b[1;34m\u001b[0m\n\u001b[0;32m      1\u001b[0m \u001b[0murl\u001b[0m \u001b[1;33m=\u001b[0m \u001b[1;34m'https://mars.nasa.gov/news/?page=0&per_page=40&order=publish_date+desc%2Ccreated_at+desc&search=&category=19%2C165%2C184%2C204&blank_scope=Latest'\u001b[0m\u001b[1;33m\u001b[0m\u001b[1;33m\u001b[0m\u001b[0m\n\u001b[1;32m----> 2\u001b[1;33m \u001b[0mbrowser\u001b[0m\u001b[1;33m.\u001b[0m\u001b[0mvisit\u001b[0m\u001b[1;33m(\u001b[0m\u001b[0murl\u001b[0m\u001b[1;33m)\u001b[0m\u001b[1;33m\u001b[0m\u001b[1;33m\u001b[0m\u001b[0m\n\u001b[0m",
      "\u001b[1;31mNameError\u001b[0m: name 'browser' is not defined"
     ]
    }
   ],
   "source": [
    "url = 'https://mars.nasa.gov/news/?page=0&per_page=40&order=publish_date+desc%2Ccreated_at+desc&search=&category=19%2C165%2C184%2C204&blank_scope=Latest'\n",
    "browser.visit(url)"
   ]
  },
  {
   "cell_type": "code",
   "execution_count": null,
   "id": "f1410807-a52f-44c5-b340-6e535e77434c",
   "metadata": {},
   "outputs": [],
   "source": [
    "soup = bs(browser.html, 'lxml')"
   ]
  },
  {
   "cell_type": "code",
   "execution_count": null,
   "id": "669f87e5-1876-4bca-9a2e-2c9d6c25f791",
   "metadata": {},
   "outputs": [],
   "source": [
    "news = soup.find_all('div', class_ = 'list_text')\n",
    "text=[]\n",
    "for n in news[0]:\n",
    "    if n.text:\n",
    "        text.append(n.text)\n",
    "text\n",
    "\n",
    "news_story = text[1]\n",
    "news_p = text[2]"
   ]
  },
  {
   "cell_type": "code",
   "execution_count": null,
   "id": "510f6a6a-6fad-4e36-a428-e928e03709bd",
   "metadata": {},
   "outputs": [],
   "source": [
    "print(news_story, news_p)"
   ]
  },
  {
   "cell_type": "code",
   "execution_count": null,
   "id": "a41b6219-eda2-4257-89d0-75c67a3d81db",
   "metadata": {},
   "outputs": [],
   "source": []
  }
 ],
 "metadata": {
  "kernelspec": {
   "display_name": "Python 3",
   "language": "python",
   "name": "python3"
  },
  "language_info": {
   "codemirror_mode": {
    "name": "ipython",
    "version": 3
   },
   "file_extension": ".py",
   "mimetype": "text/x-python",
   "name": "python",
   "nbconvert_exporter": "python",
   "pygments_lexer": "ipython3",
   "version": "3.8.8"
  }
 },
 "nbformat": 4,
 "nbformat_minor": 5
}
