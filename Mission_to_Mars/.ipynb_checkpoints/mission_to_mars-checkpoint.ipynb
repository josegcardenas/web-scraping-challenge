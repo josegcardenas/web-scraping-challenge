{
 "cells": [
  {
   "cell_type": "code",
   "execution_count": 1,
   "id": "93980d66-9bed-415e-bae5-c0cddb83b6a3",
   "metadata": {},
   "outputs": [],
   "source": [
    "#!pip install splinter\n",
    "#!pip install webdriver_manager\n",
    "#!pip install chromedriver\n",
    "#!pip install pymongo"
   ]
  },
  {
   "cell_type": "markdown",
   "id": "29c0bde8-5b36-4bea-85aa-fb8aa3d31541",
   "metadata": {},
   "source": [
    "import logging\n",
    "import os\n",
    "\n",
    "from webdriver_manager import utils\n",
    "from webdriver_manager.driver import ChromeDriver\n",
    "from webdriver_manager.logger import log\n",
    "from webdriver_manager.manager import DriverManager\n",
    "from webdriver_manager.utils import ChromeType\n",
    "\n",
    "\n",
    "class ChromeDriverManager(DriverManager):\n",
    "    def __init__(self, version=\"latest\",\n",
    "                 os_type=utils.os_type(),\n",
    "                 path=None,\n",
    "                 name=\"chromedriver\",\n",
    "                 url=\"https://chromedriver.storage.googleapis.com\",\n",
    "                 latest_release_url=\"https://chromedriver.storage.googleapis.com/LATEST_RELEASE\",\n",
    "                 chrome_type=ChromeType.GOOGLE,\n",
    "                 log_level=logging.INFO,\n",
    "                 print_first_line=True,\n",
    "                 cache_valid_range=1):\n",
    "        super().__init__(path, log_level=log_level, print_first_line=print_first_line,\n",
    "                         cache_valid_range=cache_valid_range)\n",
    "\n",
    "        self.driver = ChromeDriver(name=name,\n",
    "                                   version=version,\n",
    "                                   os_type=os_type,\n",
    "                                   url=url,\n",
    "                                   latest_release_url=latest_release_url,\n",
    "                                   chrome_type=chrome_type)\n",
    "\n",
    "    def install(self):\n",
    "        log(f\"Current {self.driver.chrome_type} version is {self.driver.browser_version}\", first_line=True)\n",
    "        driver_path = self._get_driver_path(self.driver)\n",
    "\n",
    "        os.chmod(driver_path, 0o755)\n",
    "        return driver_path"
   ]
  },
  {
   "cell_type": "code",
   "execution_count": 22,
   "id": "3e205770-d47e-4b06-9e5f-4447ad242dda",
   "metadata": {},
   "outputs": [],
   "source": [
    "# Import\n",
    "import os\n",
    "from splinter import Browser\n",
    "from bs4 import BeautifulSoup as soup\n",
    "import pandas as pd\n",
    "from selenium import webdriver\n",
    "import pymongo\n",
    "from flask import Flask, render_template\n",
    "from webdriver_manager.chrome import ChromeDriverManager"
   ]
  },
  {
   "cell_type": "code",
   "execution_count": 31,
   "id": "43c2fd23",
   "metadata": {},
   "outputs": [],
   "source": [
    "#driver = webdriver.Chrome(executable_path = {\"C:\\\\Users\\Jose G Cardenas\\Downloads\\chromedriver_win32\\chromedriver.exe\" : ChromeDriverManager(version=\"89\").install()}"
   ]
  },
  {
   "cell_type": "code",
   "execution_count": 36,
   "id": "d16994e3",
   "metadata": {},
   "outputs": [
    {
     "name": "stderr",
     "output_type": "stream",
     "text": [
      "\n",
      "\n",
      "====== WebDriver manager ======\n"
     ]
    },
    {
     "ename": "ValueError",
     "evalue": "Could not get version for Chrome with this command: reg query \"HKEY_CURRENT_USER\\Software\\Google\\Chrome\\BLBeacon\" /v version",
     "output_type": "error",
     "traceback": [
      "\u001b[1;31m---------------------------------------------------------------------------\u001b[0m",
      "\u001b[1;31mValueError\u001b[0m                                Traceback (most recent call last)",
      "\u001b[1;32m<ipython-input-36-b2ca5dde6772>\u001b[0m in \u001b[0;36m<module>\u001b[1;34m\u001b[0m\n\u001b[1;32m----> 1\u001b[1;33m \u001b[0mexecutable_path\u001b[0m \u001b[1;33m=\u001b[0m \u001b[1;33m{\u001b[0m\u001b[1;34m'C:\\\\Users\\Jose G Cardenas\\Downloads\\chromedriver_win32\\chromedriver.exe'\u001b[0m \u001b[1;33m:\u001b[0m \u001b[0mChromeDriverManager\u001b[0m\u001b[1;33m(\u001b[0m\u001b[1;33m)\u001b[0m\u001b[1;33m.\u001b[0m\u001b[0minstall\u001b[0m\u001b[1;33m(\u001b[0m\u001b[1;33m)\u001b[0m\u001b[1;33m}\u001b[0m\u001b[1;33m\u001b[0m\u001b[1;33m\u001b[0m\u001b[0m\n\u001b[0m\u001b[0;32m      2\u001b[0m \u001b[1;33m\u001b[0m\u001b[0m\n\u001b[0;32m      3\u001b[0m \u001b[0mbrowser\u001b[0m \u001b[1;33m=\u001b[0m \u001b[0mBrowser\u001b[0m\u001b[1;33m(\u001b[0m\u001b[1;34m'chrome'\u001b[0m\u001b[1;33m,\u001b[0m \u001b[0mexecutable_path\u001b[0m\u001b[1;33m,\u001b[0m \u001b[0mheadless\u001b[0m\u001b[1;33m=\u001b[0m\u001b[1;32mFalse\u001b[0m\u001b[1;33m)\u001b[0m\u001b[1;33m\u001b[0m\u001b[1;33m\u001b[0m\u001b[0m\n",
      "\u001b[1;32m~\\anaconda3\\lib\\site-packages\\webdriver_manager\\chrome.py\u001b[0m in \u001b[0;36m__init__\u001b[1;34m(self, version, os_type, path, name, url, latest_release_url, chrome_type, log_level, print_first_line, cache_valid_range)\u001b[0m\n\u001b[0;32m     23\u001b[0m                          cache_valid_range=cache_valid_range)\n\u001b[0;32m     24\u001b[0m \u001b[1;33m\u001b[0m\u001b[0m\n\u001b[1;32m---> 25\u001b[1;33m         self.driver = ChromeDriver(name=name,\n\u001b[0m\u001b[0;32m     26\u001b[0m                                    \u001b[0mversion\u001b[0m\u001b[1;33m=\u001b[0m\u001b[0mversion\u001b[0m\u001b[1;33m,\u001b[0m\u001b[1;33m\u001b[0m\u001b[1;33m\u001b[0m\u001b[0m\n\u001b[0;32m     27\u001b[0m                                    \u001b[0mos_type\u001b[0m\u001b[1;33m=\u001b[0m\u001b[0mos_type\u001b[0m\u001b[1;33m,\u001b[0m\u001b[1;33m\u001b[0m\u001b[1;33m\u001b[0m\u001b[0m\n",
      "\u001b[1;32m~\\anaconda3\\lib\\site-packages\\webdriver_manager\\driver.py\u001b[0m in \u001b[0;36m__init__\u001b[1;34m(self, name, version, os_type, url, latest_release_url, chrome_type)\u001b[0m\n\u001b[0;32m     55\u001b[0m                                            latest_release_url)\n\u001b[0;32m     56\u001b[0m         \u001b[0mself\u001b[0m\u001b[1;33m.\u001b[0m\u001b[0mchrome_type\u001b[0m \u001b[1;33m=\u001b[0m \u001b[0mchrome_type\u001b[0m\u001b[1;33m\u001b[0m\u001b[1;33m\u001b[0m\u001b[0m\n\u001b[1;32m---> 57\u001b[1;33m         \u001b[0mself\u001b[0m\u001b[1;33m.\u001b[0m\u001b[0mbrowser_version\u001b[0m \u001b[1;33m=\u001b[0m \u001b[0mchrome_version\u001b[0m\u001b[1;33m(\u001b[0m\u001b[0mchrome_type\u001b[0m\u001b[1;33m)\u001b[0m\u001b[1;33m\u001b[0m\u001b[1;33m\u001b[0m\u001b[0m\n\u001b[0m\u001b[0;32m     58\u001b[0m \u001b[1;33m\u001b[0m\u001b[0m\n\u001b[0;32m     59\u001b[0m     \u001b[1;32mdef\u001b[0m \u001b[0mget_os_type\u001b[0m\u001b[1;33m(\u001b[0m\u001b[0mself\u001b[0m\u001b[1;33m)\u001b[0m\u001b[1;33m:\u001b[0m\u001b[1;33m\u001b[0m\u001b[1;33m\u001b[0m\u001b[0m\n",
      "\u001b[1;32m~\\anaconda3\\lib\\site-packages\\webdriver_manager\\utils.py\u001b[0m in \u001b[0;36mchrome_version\u001b[1;34m(browser_type)\u001b[0m\n\u001b[0;32m    153\u001b[0m \u001b[1;33m\u001b[0m\u001b[0m\n\u001b[0;32m    154\u001b[0m     \u001b[1;32mif\u001b[0m \u001b[1;32mnot\u001b[0m \u001b[0mversion\u001b[0m\u001b[1;33m:\u001b[0m\u001b[1;33m\u001b[0m\u001b[1;33m\u001b[0m\u001b[0m\n\u001b[1;32m--> 155\u001b[1;33m         \u001b[1;32mraise\u001b[0m \u001b[0mValueError\u001b[0m\u001b[1;33m(\u001b[0m\u001b[1;34mf'Could not get version for Chrome with this command: {cmd}'\u001b[0m\u001b[1;33m)\u001b[0m\u001b[1;33m\u001b[0m\u001b[1;33m\u001b[0m\u001b[0m\n\u001b[0m\u001b[0;32m    156\u001b[0m     \u001b[0mcurrent_version\u001b[0m \u001b[1;33m=\u001b[0m \u001b[0mversion\u001b[0m\u001b[1;33m.\u001b[0m\u001b[0mgroup\u001b[0m\u001b[1;33m(\u001b[0m\u001b[1;36m0\u001b[0m\u001b[1;33m)\u001b[0m\u001b[1;33m\u001b[0m\u001b[1;33m\u001b[0m\u001b[0m\n\u001b[0;32m    157\u001b[0m     \u001b[1;32mreturn\u001b[0m \u001b[0mcurrent_version\u001b[0m\u001b[1;33m\u001b[0m\u001b[1;33m\u001b[0m\u001b[0m\n",
      "\u001b[1;31mValueError\u001b[0m: Could not get version for Chrome with this command: reg query \"HKEY_CURRENT_USER\\Software\\Google\\Chrome\\BLBeacon\" /v version"
     ]
    }
   ],
   "source": [
    "executable_path = {'C:\\\\Users\\Jose G Cardenas\\Downloads\\chromedriver_win32\\chromedriver.exe' : ChromeDriverManager().install()}\n",
    "\n",
    "browser = Browser('chrome', executable_path, headless=False)"
   ]
  },
  {
   "cell_type": "code",
   "execution_count": null,
   "id": "2b4438f0",
   "metadata": {},
   "outputs": [],
   "source": [
    "C:\\Program Files\\Google\\Chrome\\Application\\chrome.exe"
   ]
  },
  {
   "cell_type": "code",
   "execution_count": 8,
   "id": "852c3e5a",
   "metadata": {},
   "outputs": [],
   "source": [
    "#driver = webdriver.Firefox(executable_path = 'C:\\\\Users\\Jose G Cardenas\\Downloads\\geckodriver-v0.29.1-win64\\geckodriver.exe')\n",
    "#driver.get(\"http://www.google.com\")\n",
    "#webdriver.Chrome(\"C://Users/Jose G Cardenas/anaconda3/Lib/site-packages/webdriver_manager/chromedriver.exe\")"
   ]
  },
  {
   "cell_type": "code",
   "execution_count": 15,
   "id": "9b6f0456-6bb7-4ecb-96c3-274585ae35f4",
   "metadata": {},
   "outputs": [],
   "source": [
    "url = \"https://mars.nasa.gov/news/?page=0&per_page=40&order=publish_date+desc%2Ccreated_at+desc&search=&category=19%2C165%2C184%2C204&blank_scope=Latest\"\n"
   ]
  },
  {
   "cell_type": "code",
   "execution_count": 16,
   "id": "0ca3ae35",
   "metadata": {},
   "outputs": [
    {
     "ename": "InvalidSessionIdException",
     "evalue": "Message: Tried to run command without establishing a connection\n",
     "output_type": "error",
     "traceback": [
      "\u001b[1;31m---------------------------------------------------------------------------\u001b[0m",
      "\u001b[1;31mInvalidSessionIdException\u001b[0m                 Traceback (most recent call last)",
      "\u001b[1;32m<ipython-input-16-4848907ef2cb>\u001b[0m in \u001b[0;36m<module>\u001b[1;34m\u001b[0m\n\u001b[1;32m----> 1\u001b[1;33m \u001b[0mdriver\u001b[0m\u001b[1;33m.\u001b[0m\u001b[0mget\u001b[0m\u001b[1;33m(\u001b[0m\u001b[0murl\u001b[0m\u001b[1;33m)\u001b[0m\u001b[1;33m\u001b[0m\u001b[1;33m\u001b[0m\u001b[0m\n\u001b[0m",
      "\u001b[1;32m~\\anaconda3\\lib\\site-packages\\selenium\\webdriver\\remote\\webdriver.py\u001b[0m in \u001b[0;36mget\u001b[1;34m(self, url)\u001b[0m\n\u001b[0;32m    331\u001b[0m         \u001b[0mLoads\u001b[0m \u001b[0ma\u001b[0m \u001b[0mweb\u001b[0m \u001b[0mpage\u001b[0m \u001b[1;32min\u001b[0m \u001b[0mthe\u001b[0m \u001b[0mcurrent\u001b[0m \u001b[0mbrowser\u001b[0m \u001b[0msession\u001b[0m\u001b[1;33m.\u001b[0m\u001b[1;33m\u001b[0m\u001b[1;33m\u001b[0m\u001b[0m\n\u001b[0;32m    332\u001b[0m         \"\"\"\n\u001b[1;32m--> 333\u001b[1;33m         \u001b[0mself\u001b[0m\u001b[1;33m.\u001b[0m\u001b[0mexecute\u001b[0m\u001b[1;33m(\u001b[0m\u001b[0mCommand\u001b[0m\u001b[1;33m.\u001b[0m\u001b[0mGET\u001b[0m\u001b[1;33m,\u001b[0m \u001b[1;33m{\u001b[0m\u001b[1;34m'url'\u001b[0m\u001b[1;33m:\u001b[0m \u001b[0murl\u001b[0m\u001b[1;33m}\u001b[0m\u001b[1;33m)\u001b[0m\u001b[1;33m\u001b[0m\u001b[1;33m\u001b[0m\u001b[0m\n\u001b[0m\u001b[0;32m    334\u001b[0m \u001b[1;33m\u001b[0m\u001b[0m\n\u001b[0;32m    335\u001b[0m     \u001b[1;33m@\u001b[0m\u001b[0mproperty\u001b[0m\u001b[1;33m\u001b[0m\u001b[1;33m\u001b[0m\u001b[0m\n",
      "\u001b[1;32m~\\anaconda3\\lib\\site-packages\\selenium\\webdriver\\remote\\webdriver.py\u001b[0m in \u001b[0;36mexecute\u001b[1;34m(self, driver_command, params)\u001b[0m\n\u001b[0;32m    319\u001b[0m         \u001b[0mresponse\u001b[0m \u001b[1;33m=\u001b[0m \u001b[0mself\u001b[0m\u001b[1;33m.\u001b[0m\u001b[0mcommand_executor\u001b[0m\u001b[1;33m.\u001b[0m\u001b[0mexecute\u001b[0m\u001b[1;33m(\u001b[0m\u001b[0mdriver_command\u001b[0m\u001b[1;33m,\u001b[0m \u001b[0mparams\u001b[0m\u001b[1;33m)\u001b[0m\u001b[1;33m\u001b[0m\u001b[1;33m\u001b[0m\u001b[0m\n\u001b[0;32m    320\u001b[0m         \u001b[1;32mif\u001b[0m \u001b[0mresponse\u001b[0m\u001b[1;33m:\u001b[0m\u001b[1;33m\u001b[0m\u001b[1;33m\u001b[0m\u001b[0m\n\u001b[1;32m--> 321\u001b[1;33m             \u001b[0mself\u001b[0m\u001b[1;33m.\u001b[0m\u001b[0merror_handler\u001b[0m\u001b[1;33m.\u001b[0m\u001b[0mcheck_response\u001b[0m\u001b[1;33m(\u001b[0m\u001b[0mresponse\u001b[0m\u001b[1;33m)\u001b[0m\u001b[1;33m\u001b[0m\u001b[1;33m\u001b[0m\u001b[0m\n\u001b[0m\u001b[0;32m    322\u001b[0m             response['value'] = self._unwrap_value(\n\u001b[0;32m    323\u001b[0m                 response.get('value', None))\n",
      "\u001b[1;32m~\\anaconda3\\lib\\site-packages\\selenium\\webdriver\\remote\\errorhandler.py\u001b[0m in \u001b[0;36mcheck_response\u001b[1;34m(self, response)\u001b[0m\n\u001b[0;32m    240\u001b[0m                 \u001b[0malert_text\u001b[0m \u001b[1;33m=\u001b[0m \u001b[0mvalue\u001b[0m\u001b[1;33m[\u001b[0m\u001b[1;34m'alert'\u001b[0m\u001b[1;33m]\u001b[0m\u001b[1;33m.\u001b[0m\u001b[0mget\u001b[0m\u001b[1;33m(\u001b[0m\u001b[1;34m'text'\u001b[0m\u001b[1;33m)\u001b[0m\u001b[1;33m\u001b[0m\u001b[1;33m\u001b[0m\u001b[0m\n\u001b[0;32m    241\u001b[0m             \u001b[1;32mraise\u001b[0m \u001b[0mexception_class\u001b[0m\u001b[1;33m(\u001b[0m\u001b[0mmessage\u001b[0m\u001b[1;33m,\u001b[0m \u001b[0mscreen\u001b[0m\u001b[1;33m,\u001b[0m \u001b[0mstacktrace\u001b[0m\u001b[1;33m,\u001b[0m \u001b[0malert_text\u001b[0m\u001b[1;33m)\u001b[0m\u001b[1;33m\u001b[0m\u001b[1;33m\u001b[0m\u001b[0m\n\u001b[1;32m--> 242\u001b[1;33m         \u001b[1;32mraise\u001b[0m \u001b[0mexception_class\u001b[0m\u001b[1;33m(\u001b[0m\u001b[0mmessage\u001b[0m\u001b[1;33m,\u001b[0m \u001b[0mscreen\u001b[0m\u001b[1;33m,\u001b[0m \u001b[0mstacktrace\u001b[0m\u001b[1;33m)\u001b[0m\u001b[1;33m\u001b[0m\u001b[1;33m\u001b[0m\u001b[0m\n\u001b[0m\u001b[0;32m    243\u001b[0m \u001b[1;33m\u001b[0m\u001b[0m\n\u001b[0;32m    244\u001b[0m     \u001b[1;32mdef\u001b[0m \u001b[0m_value_or_default\u001b[0m\u001b[1;33m(\u001b[0m\u001b[0mself\u001b[0m\u001b[1;33m,\u001b[0m \u001b[0mobj\u001b[0m\u001b[1;33m,\u001b[0m \u001b[0mkey\u001b[0m\u001b[1;33m,\u001b[0m \u001b[0mdefault\u001b[0m\u001b[1;33m)\u001b[0m\u001b[1;33m:\u001b[0m\u001b[1;33m\u001b[0m\u001b[1;33m\u001b[0m\u001b[0m\n",
      "\u001b[1;31mInvalidSessionIdException\u001b[0m: Message: Tried to run command without establishing a connection\n"
     ]
    }
   ],
   "source": [
    "driver.get(url)"
   ]
  },
  {
   "cell_type": "code",
   "execution_count": 13,
   "id": "f1410807-a52f-44c5-b340-6e535e77434c",
   "metadata": {},
   "outputs": [
    {
     "ename": "NameError",
     "evalue": "name 'bs' is not defined",
     "output_type": "error",
     "traceback": [
      "\u001b[1;31m---------------------------------------------------------------------------\u001b[0m",
      "\u001b[1;31mNameError\u001b[0m                                 Traceback (most recent call last)",
      "\u001b[1;32m<ipython-input-13-76578793155d>\u001b[0m in \u001b[0;36m<module>\u001b[1;34m\u001b[0m\n\u001b[1;32m----> 1\u001b[1;33m \u001b[0msoup\u001b[0m \u001b[1;33m=\u001b[0m \u001b[0mbs\u001b[0m\u001b[1;33m(\u001b[0m\u001b[0mbrowser\u001b[0m\u001b[1;33m.\u001b[0m\u001b[0mhtml\u001b[0m\u001b[1;33m,\u001b[0m \u001b[1;34m'lxml'\u001b[0m\u001b[1;33m)\u001b[0m\u001b[1;33m\u001b[0m\u001b[1;33m\u001b[0m\u001b[0m\n\u001b[0m",
      "\u001b[1;31mNameError\u001b[0m: name 'bs' is not defined"
     ]
    }
   ],
   "source": [
    "soup = bs(browser.html, 'lxml')"
   ]
  },
  {
   "cell_type": "code",
   "execution_count": null,
   "id": "e9332039",
   "metadata": {},
   "outputs": [],
   "source": []
  },
  {
   "cell_type": "code",
   "execution_count": null,
   "id": "669f87e5-1876-4bca-9a2e-2c9d6c25f791",
   "metadata": {},
   "outputs": [],
   "source": [
    "news = soup.find_all('div', class_ = 'list_text')\n",
    "text=[]\n",
    "for n in news[0]:\n",
    "    if n.text:\n",
    "        text.append(n.text)\n",
    "text\n",
    "\n",
    "news_story = text[1]\n",
    "news_p = text[2]"
   ]
  },
  {
   "cell_type": "code",
   "execution_count": null,
   "id": "510f6a6a-6fad-4e36-a428-e928e03709bd",
   "metadata": {},
   "outputs": [],
   "source": [
    "print(news_story, news_p)"
   ]
  },
  {
   "cell_type": "code",
   "execution_count": null,
   "id": "a41b6219-eda2-4257-89d0-75c67a3d81db",
   "metadata": {},
   "outputs": [],
   "source": [
    "url_2 = 'https://www.jpl.nasa.gov/images?search=&category=Mars'\n",
    "browser.visit(url_2)\n",
    "soup2 = bs(browser.html, 'lxml')"
   ]
  },
  {
   "cell_type": "code",
   "execution_count": null,
   "id": "e16cd493",
   "metadata": {},
   "outputs": [],
   "source": [
    "article_images = soup2.find_all('a', class_=\"group cursor-pointer block\")\n",
    "image_links = []\n",
    "for image in article_images:\n",
    "    image_links.append(image['href'])\n",
    "\n",
    "# Scrape through the first href and find the full sized image url\n",
    "soup2 = bs(browser.html, 'lxml')\n",
    "\n",
    "domain_url = 'https://' + browser.url.replace('http://','').replace('https://','').split('/', 1)[0]\n",
    "\n",
    "browser.visit(domain_url + image_links[0]) \n",
    "soup3 = bs(browser.html, 'lxml')\n",
    "img_url = soup3.find_all('div', class_ = \"lg:w-auto w-full\")\n",
    "img_href = []\n",
    "for i in img_url:\n",
    "    if (i.a):\n",
    "        if (i.a['href']):\n",
    "            img_href.append(i.a['href'])\n",
    "\n",
    "featured_image_url = img_href[0]"
   ]
  },
  {
   "cell_type": "code",
   "execution_count": null,
   "id": "4f70d31b",
   "metadata": {},
   "outputs": [],
   "source": [
    "url_3 = 'https://space-facts.com/mars/'\n",
    "browser.visit(url_3)\n",
    "soup3 = bs(browser.html, 'lxml')"
   ]
  },
  {
   "cell_type": "code",
   "execution_count": null,
   "id": "1dcbbdf8",
   "metadata": {},
   "outputs": [],
   "source": [
    "mars_facts = pd.read_html(browser.html)\n",
    "table_df = mars_facts[0]\n",
    "table_df.columns = [\"Description\", \"Value\"]\n",
    "table_df\n",
    "table_df.to_html(index=False)"
   ]
  },
  {
   "cell_type": "code",
   "execution_count": null,
   "id": "4faf1d22",
   "metadata": {},
   "outputs": [],
   "source": [
    "url_4 = 'https://astrogeology.usgs.gov/search/results?q=hemisphere+enhanced&k1=target&v1=Mars'\n",
    "browser.visit(url_4)\n",
    "soup4 = bs(browser.html, 'lxml')"
   ]
  },
  {
   "cell_type": "code",
   "execution_count": null,
   "id": "069795f4",
   "metadata": {},
   "outputs": [],
   "source": [
    "hemisphere_image_urls = []\n",
    "\n",
    "# Run a for loop to click through our hemisphere links in order to \n",
    "# append the titles & urls for the full resolution hemisphere images\n",
    "links = browser.find_by_css(\"a.product-item h3\")\n",
    "for item in range(len(links)):\n",
    "    hemisphere = {}\n",
    "\n",
    "    browser.find_by_css(\"a.product-item h3\")[item].click()\n",
    "\n",
    "    # find urls for the full resolution hemisphere images\n",
    "    aref_list = browser.find_link_by_text(\"Sample\").first\n",
    "    hemisphere[\"img_url\"] = aref_list[\"href\"]\n",
    "\n",
    "    # find the titles for our hemisphere images\n",
    "    hemisphere[\"title\"] = browser.find_by_css(\"h2.title\").text\n",
    "\n",
    "    # append titles & urls for our hemisphere images\n",
    "    hemisphere_image_urls.append(hemisphere)\n",
    "\n",
    "    browser.back()"
   ]
  },
  {
   "cell_type": "code",
   "execution_count": null,
   "id": "ec2da03f",
   "metadata": {},
   "outputs": [],
   "source": [
    "hemisphere_image_urls"
   ]
  }
 ],
 "metadata": {
  "kernelspec": {
   "display_name": "Python 3",
   "language": "python",
   "name": "python3"
  },
  "language_info": {
   "codemirror_mode": {
    "name": "ipython",
    "version": 3
   },
   "file_extension": ".py",
   "mimetype": "text/x-python",
   "name": "python",
   "nbconvert_exporter": "python",
   "pygments_lexer": "ipython3",
   "version": "3.8.8"
  }
 },
 "nbformat": 4,
 "nbformat_minor": 5
}
